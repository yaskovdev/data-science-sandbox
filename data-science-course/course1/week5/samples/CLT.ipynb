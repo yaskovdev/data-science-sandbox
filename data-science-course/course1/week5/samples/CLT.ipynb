{
 "cells": [
  {
   "cell_type": "code",
   "execution_count": 140,
   "metadata": {},
   "outputs": [],
   "source": [
    "import pandas as pd\n",
    "import numpy as np\n",
    "import matplotlib.pyplot as plt\n",
    "import scipy.stats as sts\n",
    "%matplotlib inline\n",
    "#from sts import reciprocal\n"
   ]
  },
  {
   "cell_type": "code",
   "execution_count": 141,
   "metadata": {},
   "outputs": [],
   "source": [
    "# задаем исходное распределение\n",
    "a, b = 0.00623093670105, 1.0062309367\n",
    "reciprocal_rv=sts.reciprocal(a,b)\n",
    "sample=reciprocal_rv.rvs(size=1000)"
   ]
  },
  {
   "cell_type": "code",
   "execution_count": 142,
   "metadata": {},
   "outputs": [
    {
     "data": {
      "text/plain": [
       "Text(0.5,0,u'$x$')"
      ]
     },
     "execution_count": 142,
     "metadata": {},
     "output_type": "execute_result"
    },
    {
     "data": {
      "image/png": "[encoded data removed]",
      "text/plain": [
       "<matplotlib.figure.Figure at 0x16200320>"
      ]
     },
     "metadata": {},
     "output_type": "display_data"
    }
   ],
   "source": [
    "# строим гистрограмму и теоретическую кривую плотности распределения\n",
    "plt.hist(sample, bins=50, normed=True, label='sample')\n",
    "plt.ylabel('fraction of samples')\n",
    "plt.xlabel('$x$')\n",
    "x = np.linspace(0,1,1000)\n",
    "pdf = reciprocal_rv.pdf(x)\n",
    "plt.plot(x, pdf, label='theoretical pdf')\n",
    "plt.legend()\n",
    "plt.ylabel('$f(x)$')\n",
    "plt.xlabel('$x$')"
   ]
  },
  {
   "cell_type": "code",
   "execution_count": 143,
   "metadata": {},
   "outputs": [
    {
     "name": "stdout",
     "output_type": "stream",
     "text": [
      "Среднее значение и дисперсия исходного распределения\n",
      "Среднее =  0.196678485521  Дисперсия =  0.0608823072873\n"
     ]
    }
   ],
   "source": [
    "# вычисляем среднее и дисперсию исходного распределения\n",
    "mean0 = reciprocal_rv.mean()\n",
    "D0 = reciprocal_rv.var()\n",
    "print 'Среднее значение и дисперсия исходного распределения'\n",
    "print 'Среднее = ', mean0, ' Дисперсия = ', D0"
   ]
  },
  {
   "cell_type": "code",
   "execution_count": 144,
   "metadata": {},
   "outputs": [
    {
     "name": "stdout",
     "output_type": "stream",
     "text": [
      "Среднее для выборки из 5 равняется:  0.195473486956\n",
      "Среднее исходного распределения:  0.196678485521\n",
      "Дисперсия для выборки из 5 равняется:  0.0121044525384\n",
      "Дисперсия исходного распределения деленное на n, т.е. D/n:  0.0121764614575\n"
     ]
    }
   ],
   "source": [
    "# распределение выборочного среднего случайной величины \n",
    "# при выбороке размера 5 значений\n",
    "mean5=np.zeros(1000)\n",
    "for i in range (1000):\n",
    "    sample5=reciprocal_rv.rvs(size=5)\n",
    "    mean5[i]=np.mean(sample5)\n",
    "print 'Среднее для выборки из 5 равняется: ', mean5.mean()\n",
    "print 'Среднее исходного распределения: ', mean0\n",
    "print 'Дисперсия для выборки из 5 равняется: ', mean5.var()   \n",
    "print 'Дисперсия исходного распределения деленное на n, т.е. D/n: ', D0/5  "
   ]
  },
  {
   "cell_type": "code",
   "execution_count": 145,
   "metadata": {},
   "outputs": [
    {
     "data": {
      "text/plain": [
       "Text(0.5,0,u'$x$')"
      ]
     },
     "execution_count": 145,
     "metadata": {},
     "output_type": "execute_result"
    },
    {
     "data": {
      "image/png": "[encoded data removed]",
      "text/plain": [
       "<matplotlib.figure.Figure at 0x16551da0>"
      ]
     },
     "metadata": {},
     "output_type": "display_data"
    }
   ],
   "source": [
    "# строим гистограмму и кривую нормального распределения\n",
    "plt.hist(mean5, normed=True, label='sample')\n",
    "plt.ylabel('fraction of samples')\n",
    "plt.xlabel('$x$')\n",
    "\n",
    "norm1=sts.norm(loc=EX, scale=(DX/5)**0.5)\n",
    "x = np.linspace(0,1,1000)\n",
    "pdf = norm1.pdf(x)\n",
    "plt.plot(x, pdf, label='theoretical pdf')\n",
    "plt.legend()\n",
    "plt.ylabel('$f(x)$')\n",
    "plt.xlabel('$x$')\n"
   ]
  },
  {
   "cell_type": "code",
   "execution_count": 146,
   "metadata": {},
   "outputs": [
    {
     "name": "stdout",
     "output_type": "stream",
     "text": [
      "Среднее для выборки из 10 равняется:  0.197419968438\n",
      "Среднее исходного распределения:  0.196678485521\n",
      "Дисперсия для выборки из 10 равняется:  0.00601387410437\n",
      "Дисперсия исходного распределения деленное на n, т.е. D/n:  0.00608823072873\n"
     ]
    }
   ],
   "source": [
    "# распределение выборочного среднего случайной величины \n",
    "# при выбороке размера 10 значений\n",
    "mean10=np.zeros(1000)\n",
    "for i in range (1000):\n",
    "    sample10=reciprocal_rv.rvs(size=10)\n",
    "    mean10[i]=np.mean(sample10)\n",
    "    \n",
    "print 'Среднее для выборки из 10 равняется: ', mean10.mean()\n",
    "print 'Среднее исходного распределения: ', mean0\n",
    "print 'Дисперсия для выборки из 10 равняется: ', mean10.var()   \n",
    "print 'Дисперсия исходного распределения деленное на n, т.е. D/n: ', D0/10  "
   ]
  },
  {
   "cell_type": "code",
   "execution_count": 147,
   "metadata": {},
   "outputs": [
    {
     "data": {
      "text/plain": [
       "Text(0.5,0,u'$x$')"
      ]
     },
     "execution_count": 147,
     "metadata": {},
     "output_type": "execute_result"
    },
    {
     "data": {
      "image/png": "[encoded data removed]",
      "text/plain": [
       "<matplotlib.figure.Figure at 0x1664b5c0>"
      ]
     },
     "metadata": {},
     "output_type": "display_data"
    }
   ],
   "source": [
    "# строим гистограмму и кривую нормального распределения\n",
    "plt.hist(mean10, normed=True, label='sample')\n",
    "plt.ylabel('fraction of samples')\n",
    "plt.xlabel('$x$')\n",
    "\n",
    "norm10=sts.norm(loc=EX, scale=(DX/10)**0.5)\n",
    "x = np.linspace(0,1,1000)\n",
    "pdf = norm10.pdf(x)\n",
    "plt.plot(x, pdf, label='theoretical pdf')\n",
    "plt.legend()\n",
    "plt.ylabel('$f(x)$')\n",
    "plt.xlabel('$x$')"
   ]
  },
  {
   "cell_type": "code",
   "execution_count": 148,
   "metadata": {},
   "outputs": [
    {
     "name": "stdout",
     "output_type": "stream",
     "text": [
      "Среднее для выборки из 50 равняется:  0.196416903453\n",
      "Среднее исходного распределения:  0.196678485521\n",
      "Дисперсия для выборки из 50 равняется:  0.00133292601601\n",
      "Дисперсия исходного распределения деленное на n, т.е. D/n:  0.00121764614575\n"
     ]
    }
   ],
   "source": [
    "# распределение выборочного среднего случайной величины \n",
    "# при выбороке размера 50 значений\n",
    "\n",
    "mean50=np.zeros(1000)\n",
    "for i in range (1000):\n",
    "    sample50=reciprocal_rv.rvs(size=50)\n",
    "    mean50[i]=np.mean(sample50)\n",
    "print 'Среднее для выборки из 50 равняется: ', mean50.mean()\n",
    "print 'Среднее исходного распределения: ', mean0\n",
    "print 'Дисперсия для выборки из 50 равняется: ', mean50.var()   \n",
    "print 'Дисперсия исходного распределения деленное на n, т.е. D/n: ', D0/50 "
   ]
  },
  {
   "cell_type": "code",
   "execution_count": 149,
   "metadata": {},
   "outputs": [
    {
     "data": {
      "text/plain": [
       "Text(0.5,0,u'$x$')"
      ]
     },
     "execution_count": 149,
     "metadata": {},
     "output_type": "execute_result"
    },
    {
     "data": {
      "image/png": "[encoded data removed]",
      "text/plain": [
       "<matplotlib.figure.Figure at 0x1694dac8>"
      ]
     },
     "metadata": {},
     "output_type": "display_data"
    }
   ],
   "source": [
    "# строим гистограмму и кривую нормального распределения\n",
    "plt.hist(mean50, normed=True, label='sample')\n",
    "plt.ylabel('fraction of samples')\n",
    "plt.xlabel('$x$')\n",
    "norm50=sts.norm(loc=EX, scale=(DX/50)**0.5)\n",
    "x = np.linspace(0,1,1000)\n",
    "pdf = norm50.pdf(x)\n",
    "plt.plot(x, pdf, label='theoretical pdf')\n",
    "plt.legend()\n",
    "plt.ylabel('$f(x)$')\n",
    "plt.xlabel('$x$')"
   ]
  },
  {
   "cell_type": "code",
   "execution_count": 150,
   "metadata": {
    "collapsed": true
   },
   "outputs": [],
   "source": [
    "# Выводы: \n",
    "# 1)При увеличении объема выборки из распределения, \n",
    "# параметры этой выборки приближаются к нормальным\n",
    "# 2) распределение выборочных средних хорошо описывается \n",
    "# нормальным распределением даже для n=5"
   ]
  },
  {
   "cell_type": "code",
   "execution_count": null,
   "metadata": {
    "collapsed": true
   },
   "outputs": [],
   "source": []
  }
 ],
 "metadata": {
  "kernelspec": {
   "display_name": "Python 2",
   "language": "python",
   "name": "python2"
  },
  "language_info": {
   "codemirror_mode": {
    "name": "ipython",
    "version": 2
   },
   "file_extension": ".py",
   "mimetype": "text/x-python",
   "name": "python",
   "nbconvert_exporter": "python",
   "pygments_lexer": "ipython2",
   "version": "2.7.14"
  }
 },
 "nbformat": 4,
 "nbformat_minor": 2
}
