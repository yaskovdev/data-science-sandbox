{
 "cells": [
  {
   "cell_type": "code",
   "execution_count": 55,
   "metadata": {},
   "outputs": [],
   "source": [
    "import numpy as np\n",
    "import matplotlib.pyplot as plt\n",
    "import scipy.stats as sts\n",
    "from math import sqrt"
   ]
  },
  {
   "cell_type": "code",
   "execution_count": 56,
   "metadata": {},
   "outputs": [],
   "source": [
    "# generates 'number_of_samples' samples of size 'samples_size' and returns an array of their means\n",
    "def samples(random_value, sample_size, number_of_samples):\n",
    "    result = np.asarray([])\n",
    "    for i in range(number_of_samples):\n",
    "        result = np.append(result, np.mean(random_value.rvs(sample_size)))\n",
    "    return result"
   ]
  },
  {
   "cell_type": "code",
   "execution_count": 57,
   "metadata": {},
   "outputs": [
    {
     "name": "stdout",
     "output_type": "stream",
     "text": [
      "1.5\n",
      "0.75\n"
     ]
    },
    {
     "data": {
      "text/plain": [
       "[<matplotlib.lines.Line2D at 0x1a2010c810>]"
      ]
     },
     "execution_count": 57,
     "metadata": {},
     "output_type": "execute_result"
    },
    {
     "data": {
      "image/png": "[encoded data removed]",
      "text/plain": [
       "<matplotlib.figure.Figure at 0x1a20231490>"
      ]
     },
     "metadata": {},
     "output_type": "display_data"
    }
   ],
   "source": [
    "n = 10\n",
    "\n",
    "b = 3.0\n",
    "random_value = sts.pareto(b)\n",
    "mean = random_value.mean()\n",
    "variance = random_value.var()\n",
    "print(mean)\n",
    "print(variance)\n",
    "\n",
    "plt.hist(samples(random_value, n, 1000), bins=20, normed=True)\n",
    "\n",
    "x = np.linspace(0, 6, 100)\n",
    "pdf = sts.norm(mean, sqrt(variance / n)).pdf(x)\n",
    "plt.plot(x, pdf, color='r', label='theoretical PDF')"
   ]
  },
  {
   "cell_type": "code",
   "execution_count": null,
   "metadata": {},
   "outputs": [],
   "source": []
  }
 ],
 "metadata": {
  "kernelspec": {
   "display_name": "Python 2",
   "language": "python",
   "name": "python2"
  },
  "language_info": {
   "codemirror_mode": {
    "name": "ipython",
    "version": 2
   },
   "file_extension": ".py",
   "mimetype": "text/x-python",
   "name": "python",
   "nbconvert_exporter": "python",
   "pygments_lexer": "ipython2",
   "version": "2.7.14"
  }
 },
 "nbformat": 4,
 "nbformat_minor": 1
}
